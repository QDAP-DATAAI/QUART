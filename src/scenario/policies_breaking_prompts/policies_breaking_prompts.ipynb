{
 "cells": [
  {
   "cell_type": "markdown",
   "metadata": {},
   "source": [
    "# Breaking policies\n",
    "\n",
    "The goal here is to get the target to go out the scope of its instructions"
   ]
  },
  {
   "cell_type": "code",
   "execution_count": null,
   "metadata": {},
   "outputs": [],
   "source": [
    "# Get a known policy (e.g. Communicate in clear, concise, and plain English)\n",
    "\n",
    "# Converse with the target and steer discussion to go against the policy\n",
    "# Classify the target's answers\n",
    "\n",
    "# Inject prompt to the target to make them say something that goes against the policy\n",
    "# Classify the target's answers"
   ]
  }
 ],
 "metadata": {
  "language_info": {
   "name": "python"
  }
 },
 "nbformat": 4,
 "nbformat_minor": 2
}
