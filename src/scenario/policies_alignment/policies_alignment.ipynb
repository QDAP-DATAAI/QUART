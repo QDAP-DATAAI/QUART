{
 "cells": [
  {
   "cell_type": "markdown",
   "metadata": {},
   "source": [
    "# Policies and brand's values alignment\n",
    "\n",
    "The goal here is to ensure the target is conversing according to rules and ethics defined internally"
   ]
  },
  {
   "cell_type": "code",
   "execution_count": null,
   "metadata": {},
   "outputs": [],
   "source": [
    "# Get a known policy (e.g. Communicate in clear, concise, and plain English)\n",
    "\n",
    "# Converse with target about different topics using different level of english\n",
    "# e.g. using formal, informal, and slang language\n",
    "\n",
    "# Classify the target's answers"
   ]
  }
 ],
 "metadata": {
  "language_info": {
   "name": "python"
  }
 },
 "nbformat": 4,
 "nbformat_minor": 2
}
